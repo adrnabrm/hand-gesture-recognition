{
 "cells": [
  {
   "cell_type": "markdown",
   "id": "aff67d18-5e19-49da-8ba9-8cf324cb93b5",
   "metadata": {},
   "source": [
    "# Hand Gesture Classification\n",
    "### by Adrian Abraham"
   ]
  },
  {
   "cell_type": "markdown",
   "id": "f2c7e197-3af0-4273-980f-41172fc47139",
   "metadata": {},
   "source": [
    "## 1 - Package installation\n",
    "- **tensorflow**: for model creation and predictions\n",
    "- **pandas**: for csv_reading\n",
    "- **numpy**: for data storage and manipulation\n",
    "- **mediapipe**: contains pre-made hand detection module for data collection\n",
    "- **open-cv**: for live feed\n",
    "- **ast**: to convert string literal lists into actual lists"
   ]
  },
  {
   "cell_type": "code",
   "execution_count": null,
   "id": "780c0847-b46b-4264-8ca2-f1ce2c6757d7",
   "metadata": {},
   "outputs": [],
   "source": [
    "!pip install tensorflow"
   ]
  },
  {
   "cell_type": "code",
   "execution_count": null,
   "id": "f7849341-8a20-464f-8ced-3baed76eb02f",
   "metadata": {},
   "outputs": [],
   "source": [
    "!pip install pandas"
   ]
  },
  {
   "cell_type": "code",
   "execution_count": null,
   "id": "66b2ec0a-c9be-40d7-9ec1-09ec02481fc4",
   "metadata": {},
   "outputs": [],
   "source": [
    "!pip install mediapipe"
   ]
  },
  {
   "cell_type": "code",
   "execution_count": null,
   "id": "e2a840ac-7d28-4951-9174-1e2a17933898",
   "metadata": {},
   "outputs": [],
   "source": [
    "!pip install scikit-learn"
   ]
  },
  {
   "cell_type": "code",
   "execution_count": null,
   "id": "4d69ffd7-f49a-4caa-9838-212b5fe92669",
   "metadata": {},
   "outputs": [],
   "source": [
    "!pip install matplotlib"
   ]
  },
  {
   "cell_type": "markdown",
   "id": "a6f79579-7689-45d4-841c-a5b9445e8aa0",
   "metadata": {},
   "source": [
    "## 2 - Importing packages"
   ]
  },
  {
   "cell_type": "code",
   "execution_count": 89,
   "id": "5cfc2533-57c5-499a-91fc-aa6449e07334",
   "metadata": {},
   "outputs": [],
   "source": [
    "import os\n",
    "import glob\n",
    "import tensorflow as tf\n",
    "import matplotlib.pyplot as plt\n",
    "import numpy as np\n",
    "import pandas as pd\n",
    "import ast\n",
    "from sklearn.model_selection import train_test_split\n",
    "from tensorflow.keras.models import Sequential\n",
    "from tensorflow.keras.layers import Dense, Flatten, Input\n",
    "from tensorflow.keras.activations import linear, relu, sigmoid\n",
    "from tensorflow.keras.losses import SparseCategoricalCrossentropy\n",
    "from tensorflow.keras.regularizers import L2"
   ]
  },
  {
   "cell_type": "markdown",
   "id": "2ce42d59-a0cc-42c5-a790-78e504668274",
   "metadata": {},
   "source": [
    "### Quick check that tensorflow is working"
   ]
  },
  {
   "cell_type": "code",
   "execution_count": 90,
   "id": "39f709a9-b91c-4998-b783-c99096c1df6f",
   "metadata": {},
   "outputs": [
    {
     "name": "stdout",
     "output_type": "stream",
     "text": [
      "2.16.2\n"
     ]
    }
   ],
   "source": [
    "print(tf.__version__)"
   ]
  },
  {
   "cell_type": "markdown",
   "id": "934624a0-919a-452c-93a6-32c292eda3f7",
   "metadata": {},
   "source": [
    "## 3 - Data import and manipulation"
   ]
  },
  {
   "cell_type": "markdown",
   "id": "9d12501c-7129-4192-a6d9-f2b37e34f6cc",
   "metadata": {},
   "source": [
    "Each class data is stored in a csv file, which are collectively stored in the data folder. We will take all the data points and store them in one np array."
   ]
  },
  {
   "cell_type": "code",
   "execution_count": 91,
   "id": "7691a255-9573-4012-8172-523a662d7e83",
   "metadata": {},
   "outputs": [],
   "source": [
    "# Using glob to get all .csv files in the data folder\n",
    "csv_names = glob.glob('data/*.csv')\n",
    "csv_names.sort()\n",
    "dfs = []\n",
    "# Every .csv file is read using the pandas library and added to a list of DataFrames\n",
    "for name in csv_names:\n",
    "    dfs.append(pd.read_csv(name))\n",
    "\n",
    "# The ast library is then used to convert the string literal lists into actual lists\n",
    "# Then, each list is concatenated with each other to form one big np array of data\n",
    "all_data = []\n",
    "for df in dfs:\n",
    "    # For each element in the Series df['coords'], we apply the function ast.literal_eval\n",
    "    # to turn the string literals into lists\n",
    "    df['coords'] = df['coords'].apply(ast.literal_eval)\n",
    "\n",
    "    # The Series df['coords'] is then turned into a list using the tolist() function\n",
    "    # and finally passed into np.array() to create a np array\n",
    "    df_as_arr = np.array(df['coords'].tolist())\n",
    "    \n",
    "    all_data.append(df_as_arr)\n",
    "data = np.concatenate(all_data, axis=0)"
   ]
  },
  {
   "cell_type": "markdown",
   "id": "471639a9-4869-4c1f-b14d-176da6979eed",
   "metadata": {},
   "source": [
    "We can check its shape to verify how many points we have in the dataset and how many hand landmark coordinates are stored in each element."
   ]
  },
  {
   "cell_type": "code",
   "execution_count": 92,
   "id": "6a8c4bc3-552f-48b9-a9d2-a277959f1335",
   "metadata": {},
   "outputs": [
    {
     "data": {
      "text/plain": [
       "(7494, 21, 2)"
      ]
     },
     "execution_count": 92,
     "metadata": {},
     "output_type": "execute_result"
    }
   ],
   "source": [
    "data.shape"
   ]
  },
  {
   "cell_type": "markdown",
   "id": "e732a616-e013-436d-af23-9a2c50a7b690",
   "metadata": {},
   "source": [
    "Now we can create the target classes for each element of the dataset."
   ]
  },
  {
   "cell_type": "code",
   "execution_count": 93,
   "id": "3686be44-3436-4d03-b1bd-1506e30f8a53",
   "metadata": {},
   "outputs": [
    {
     "name": "stdout",
     "output_type": "stream",
     "text": [
      "Gestures to be detected: ['heart', 'none', 'peace', 'shaka']\n"
     ]
    }
   ],
   "source": [
    "# We are taking each file name and extracting the gesture name\n",
    "gestures = []\n",
    "for name in csv_names:\n",
    "    # We split the name at the '/' and get the last element, the csv file name, and remove the .csv extension\n",
    "    gesture = name.split('/')[-1].replace('.csv', '')\n",
    "    gestures.append(gesture)\n",
    "print(f'Gestures to be detected: {gestures}')"
   ]
  },
  {
   "cell_type": "code",
   "execution_count": 94,
   "id": "30eda44a-e0ec-469b-8855-9b5a70dcdbf0",
   "metadata": {},
   "outputs": [],
   "source": [
    "# Generating the target outputs for all dataset\n",
    "targets = []\n",
    "for i in range(len(all_data)):\n",
    "    targets.append(np.full(all_data[i].shape[0], i))\n",
    "targets = np.concatenate(targets, axis=0)"
   ]
  },
  {
   "cell_type": "code",
   "execution_count": 95,
   "id": "1bcdf577-5c2b-485d-bf4e-e6109a950068",
   "metadata": {},
   "outputs": [],
   "source": [
    "# Splitting dataset into training set and cross validation set\n",
    "data_train, data_cv, target_train, target_cv = train_test_split(data, targets, test_size=0.2, random_state=42)"
   ]
  },
  {
   "cell_type": "code",
   "execution_count": 96,
   "id": "b9377702-873d-42c3-b75f-77795937740b",
   "metadata": {},
   "outputs": [
    {
     "data": {
      "text/html": [
       "<pre style=\"white-space:pre;overflow-x:auto;line-height:normal;font-family:Menlo,'DejaVu Sans Mono',consolas,'Courier New',monospace\"><span style=\"font-weight: bold\">Model: \"sequential_11\"</span>\n",
       "</pre>\n"
      ],
      "text/plain": [
       "\u001b[1mModel: \"sequential_11\"\u001b[0m\n"
      ]
     },
     "metadata": {},
     "output_type": "display_data"
    },
    {
     "data": {
      "text/html": [
       "<pre style=\"white-space:pre;overflow-x:auto;line-height:normal;font-family:Menlo,'DejaVu Sans Mono',consolas,'Courier New',monospace\">┏━━━━━━━━━━━━━━━━━━━━━━━━━━━━━━━━━┳━━━━━━━━━━━━━━━━━━━━━━━━┳━━━━━━━━━━━━━━━┓\n",
       "┃<span style=\"font-weight: bold\"> Layer (type)                    </span>┃<span style=\"font-weight: bold\"> Output Shape           </span>┃<span style=\"font-weight: bold\">       Param # </span>┃\n",
       "┡━━━━━━━━━━━━━━━━━━━━━━━━━━━━━━━━━╇━━━━━━━━━━━━━━━━━━━━━━━━╇━━━━━━━━━━━━━━━┩\n",
       "│ flatten_12 (<span style=\"color: #0087ff; text-decoration-color: #0087ff\">Flatten</span>)            │ (<span style=\"color: #00d7ff; text-decoration-color: #00d7ff\">None</span>, <span style=\"color: #00af00; text-decoration-color: #00af00\">42</span>)             │             <span style=\"color: #00af00; text-decoration-color: #00af00\">0</span> │\n",
       "├─────────────────────────────────┼────────────────────────┼───────────────┤\n",
       "│ L1 (<span style=\"color: #0087ff; text-decoration-color: #0087ff\">Dense</span>)                      │ (<span style=\"color: #00d7ff; text-decoration-color: #00d7ff\">None</span>, <span style=\"color: #00af00; text-decoration-color: #00af00\">32</span>)             │         <span style=\"color: #00af00; text-decoration-color: #00af00\">1,376</span> │\n",
       "├─────────────────────────────────┼────────────────────────┼───────────────┤\n",
       "│ L2 (<span style=\"color: #0087ff; text-decoration-color: #0087ff\">Dense</span>)                      │ (<span style=\"color: #00d7ff; text-decoration-color: #00d7ff\">None</span>, <span style=\"color: #00af00; text-decoration-color: #00af00\">16</span>)             │           <span style=\"color: #00af00; text-decoration-color: #00af00\">528</span> │\n",
       "├─────────────────────────────────┼────────────────────────┼───────────────┤\n",
       "│ L3 (<span style=\"color: #0087ff; text-decoration-color: #0087ff\">Dense</span>)                      │ (<span style=\"color: #00d7ff; text-decoration-color: #00d7ff\">None</span>, <span style=\"color: #00af00; text-decoration-color: #00af00\">4</span>)              │            <span style=\"color: #00af00; text-decoration-color: #00af00\">68</span> │\n",
       "└─────────────────────────────────┴────────────────────────┴───────────────┘\n",
       "</pre>\n"
      ],
      "text/plain": [
       "┏━━━━━━━━━━━━━━━━━━━━━━━━━━━━━━━━━┳━━━━━━━━━━━━━━━━━━━━━━━━┳━━━━━━━━━━━━━━━┓\n",
       "┃\u001b[1m \u001b[0m\u001b[1mLayer (type)                   \u001b[0m\u001b[1m \u001b[0m┃\u001b[1m \u001b[0m\u001b[1mOutput Shape          \u001b[0m\u001b[1m \u001b[0m┃\u001b[1m \u001b[0m\u001b[1m      Param #\u001b[0m\u001b[1m \u001b[0m┃\n",
       "┡━━━━━━━━━━━━━━━━━━━━━━━━━━━━━━━━━╇━━━━━━━━━━━━━━━━━━━━━━━━╇━━━━━━━━━━━━━━━┩\n",
       "│ flatten_12 (\u001b[38;5;33mFlatten\u001b[0m)            │ (\u001b[38;5;45mNone\u001b[0m, \u001b[38;5;34m42\u001b[0m)             │             \u001b[38;5;34m0\u001b[0m │\n",
       "├─────────────────────────────────┼────────────────────────┼───────────────┤\n",
       "│ L1 (\u001b[38;5;33mDense\u001b[0m)                      │ (\u001b[38;5;45mNone\u001b[0m, \u001b[38;5;34m32\u001b[0m)             │         \u001b[38;5;34m1,376\u001b[0m │\n",
       "├─────────────────────────────────┼────────────────────────┼───────────────┤\n",
       "│ L2 (\u001b[38;5;33mDense\u001b[0m)                      │ (\u001b[38;5;45mNone\u001b[0m, \u001b[38;5;34m16\u001b[0m)             │           \u001b[38;5;34m528\u001b[0m │\n",
       "├─────────────────────────────────┼────────────────────────┼───────────────┤\n",
       "│ L3 (\u001b[38;5;33mDense\u001b[0m)                      │ (\u001b[38;5;45mNone\u001b[0m, \u001b[38;5;34m4\u001b[0m)              │            \u001b[38;5;34m68\u001b[0m │\n",
       "└─────────────────────────────────┴────────────────────────┴───────────────┘\n"
      ]
     },
     "metadata": {},
     "output_type": "display_data"
    },
    {
     "data": {
      "text/html": [
       "<pre style=\"white-space:pre;overflow-x:auto;line-height:normal;font-family:Menlo,'DejaVu Sans Mono',consolas,'Courier New',monospace\"><span style=\"font-weight: bold\"> Total params: </span><span style=\"color: #00af00; text-decoration-color: #00af00\">1,972</span> (7.70 KB)\n",
       "</pre>\n"
      ],
      "text/plain": [
       "\u001b[1m Total params: \u001b[0m\u001b[38;5;34m1,972\u001b[0m (7.70 KB)\n"
      ]
     },
     "metadata": {},
     "output_type": "display_data"
    },
    {
     "data": {
      "text/html": [
       "<pre style=\"white-space:pre;overflow-x:auto;line-height:normal;font-family:Menlo,'DejaVu Sans Mono',consolas,'Courier New',monospace\"><span style=\"font-weight: bold\"> Trainable params: </span><span style=\"color: #00af00; text-decoration-color: #00af00\">1,972</span> (7.70 KB)\n",
       "</pre>\n"
      ],
      "text/plain": [
       "\u001b[1m Trainable params: \u001b[0m\u001b[38;5;34m1,972\u001b[0m (7.70 KB)\n"
      ]
     },
     "metadata": {},
     "output_type": "display_data"
    },
    {
     "data": {
      "text/html": [
       "<pre style=\"white-space:pre;overflow-x:auto;line-height:normal;font-family:Menlo,'DejaVu Sans Mono',consolas,'Courier New',monospace\"><span style=\"font-weight: bold\"> Non-trainable params: </span><span style=\"color: #00af00; text-decoration-color: #00af00\">0</span> (0.00 B)\n",
       "</pre>\n"
      ],
      "text/plain": [
       "\u001b[1m Non-trainable params: \u001b[0m\u001b[38;5;34m0\u001b[0m (0.00 B)\n"
      ]
     },
     "metadata": {},
     "output_type": "display_data"
    }
   ],
   "source": [
    "# Creating a Sequential model for our neural network\n",
    "l = 0.001\n",
    "model = Sequential([\n",
    "    Input(shape=data.shape[1:]),                                                    # Define the input shape here\n",
    "    Flatten(),                                                                      # Flatten the (21, 2) input into a 1D vector\n",
    "    Dense(32, activation='relu',  name='L1', kernel_regularizer=L2(l)),             # Fully connected layer with 20 neurons\n",
    "    Dense(16, activation='relu',  name='L2', kernel_regularizer=L2(l)),             # Fully connected layer with 10 neurons\n",
    "    Dense(len(gestures), activation='linear', name='L3', kernel_regularizer=L2(l))  # Output layer for multiclass classification\n",
    "])\n",
    "model.summary()"
   ]
  },
  {
   "cell_type": "code",
   "execution_count": 97,
   "id": "a5518cd4-e576-44e8-8a47-ef51df630fde",
   "metadata": {},
   "outputs": [],
   "source": [
    "model.compile(optimizer=tf.keras.optimizers.Adam(learning_rate=0.001),\n",
    "              loss=SparseCategoricalCrossentropy(from_logits=True),\n",
    "              metrics=['accuracy'])"
   ]
  },
  {
   "cell_type": "code",
   "execution_count": 98,
   "id": "bbd611f0-3d78-4980-94e5-fb6f8fcbf81c",
   "metadata": {},
   "outputs": [
    {
     "name": "stdout",
     "output_type": "stream",
     "text": [
      "Model successfully trained!\n"
     ]
    }
   ],
   "source": [
    "history = model.fit(\n",
    "    data_train,target_train,\n",
    "    epochs=40,\n",
    "    validation_data=(data_cv,target_cv),\n",
    "    verbose=0\n",
    ")\n",
    "print(\"Model successfully trained!\")"
   ]
  },
  {
   "cell_type": "code",
   "execution_count": 99,
   "id": "3e157ce6-e23e-4685-9429-61835442253e",
   "metadata": {},
   "outputs": [
    {
     "data": {
      "image/png": "[encoded data removed]",
      "text/plain": [
       "<Figure size 1200x500 with 2 Axes>"
      ]
     },
     "metadata": {},
     "output_type": "display_data"
    }
   ],
   "source": [
    "# Plotting learning curves\n",
    "plt.figure(figsize=(12, 5))\n",
    "\n",
    "# Plot training & validation loss\n",
    "plt.subplot(1, 2, 1)\n",
    "plt.plot(history.history['loss'], label='Training Loss')\n",
    "plt.plot(history.history['val_loss'], label='Validation Loss')\n",
    "plt.title('Loss')\n",
    "plt.xlabel('Epoch')\n",
    "plt.ylabel('Loss')\n",
    "plt.legend()\n",
    "\n",
    "# Plot training & validation accuracy\n",
    "plt.subplot(1, 2, 2)\n",
    "plt.plot(history.history['accuracy'], label='Training Accuracy')\n",
    "plt.plot(history.history['val_accuracy'], label='Validation Accuracy')\n",
    "plt.title('Accuracy')\n",
    "plt.xlabel('Epoch')\n",
    "plt.ylabel('Accuracy')\n",
    "plt.legend()\n",
    "\n",
    "plt.show()\n"
   ]
  },
  {
   "cell_type": "code",
   "execution_count": 100,
   "id": "07ea1e48-0213-4672-bf68-82b2082ca6d5",
   "metadata": {},
   "outputs": [],
   "source": [
    "model.save(\"gesture_model.keras\")"
   ]
  },
  {
   "cell_type": "code",
   "execution_count": null,
   "id": "11c51114-8c1d-4b48-9b91-6ec8ceead8f3",
   "metadata": {},
   "outputs": [],
   "source": []
  }
 ],
 "metadata": {
  "kernelspec": {
   "display_name": "Python 3 (ipykernel)",
   "language": "python",
   "name": "python3"
  },
  "language_info": {
   "codemirror_mode": {
    "name": "ipython",
    "version": 3
   },
   "file_extension": ".py",
   "mimetype": "text/x-python",
   "name": "python",
   "nbconvert_exporter": "python",
   "pygments_lexer": "ipython3",
   "version": "3.10.14"
  }
 },
 "nbformat": 4,
 "nbformat_minor": 5
}
